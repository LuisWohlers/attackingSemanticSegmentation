{
 "cells": [
  {
   "cell_type": "code",
   "execution_count": null,
   "id": "0384d375-9999-479e-8813-eb132c26ccb8",
   "metadata": {},
   "outputs": [],
   "source": [
    "from torch.nn import BCEWithLogitsLoss, BCELoss\n",
    "from torch.optim import Adam\n",
    "from torch.utils.data import DataLoader\n",
    "from sklearn.model_selection import train_test_split\n",
    "from torchvision import transforms\n",
    "from imutils import paths\n",
    "from tqdm import tqdm\n",
    "import matplotlib.pyplot as plt\n",
    "import torch\n",
    "import time\n",
    "import os\n",
    "import numpy as np\n",
    "\n",
    "from Utils import loader, loss\n",
    "from Train import train\n",
    "from Model import Model"
   ]
  },
  {
   "cell_type": "code",
   "execution_count": null,
   "id": "cb0665d3-772a-435c-891a-06e0c31ab3cb",
   "metadata": {},
   "outputs": [],
   "source": [
    "imdir_rs19 = '/home/physik/Dokumente/rs19/jpgs/rs19_val'\n",
    "maskdir_rs19 = '/home/physik/Dokumente/rs19/uint8/rs19_val'\n",
    "#imdir_rs19 = '/home/luis/Documents/ImSeg/rs19_val/jpgs/rs19_val'\n",
    "#maskdir_rs19 = '/home/luis/Documents/ImSeg/rs19_val/uint8/rs19_val'\n",
    "classes_ = {\"rail-track\",\"tram-track\"}#,\"rail-raised\",\"rail-embedded\"}\n",
    "range_train = (0,4999)\n",
    "range_test = (5000,7499)\n",
    "range_val = (7500,8499)\n",
    "img_size = (1024,512)"
   ]
  },
  {
   "cell_type": "code",
   "execution_count": null,
   "id": "98036a41-7552-4857-976a-5568dd7f6632",
   "metadata": {},
   "outputs": [],
   "source": [
    "traindata = loader.dataset(imdir=imdir_rs19,\n",
    "                      maskdir=maskdir_rs19,\n",
    "                      numstart=range_train[0],\n",
    "                      numend=range_train[1],\n",
    "                      classes=classes_,\n",
    "                      img_size = img_size)\n",
    "\n",
    "testdata = loader.dataset(imdir=imdir_rs19,\n",
    "                      maskdir=maskdir_rs19,\n",
    "                      numstart=range_test[0],\n",
    "                      numend=range_test[1],\n",
    "                      classes=classes_,\n",
    "                      img_size = img_size)\n",
    "\n",
    "valdata = loader.dataset(imdir=imdir_rs19,\n",
    "                      maskdir=maskdir_rs19,\n",
    "                      numstart=range_val[0],\n",
    "                      numend=range_val[1],\n",
    "                      classes=classes_,\n",
    "                      img_size = img_size)"
   ]
  },
  {
   "cell_type": "code",
   "execution_count": null,
   "id": "44e63616-81fc-483c-8e6c-1fe005ba2190",
   "metadata": {},
   "outputs": [],
   "source": [
    "model_path = \"/home/physik/Model_19122022_2\"\n",
    "#model_path = \"/home/luis/Documents/HSD_ARBEIT/Model_19122022_2\""
   ]
  },
  {
   "cell_type": "code",
   "execution_count": null,
   "id": "a4357f4f-dd68-45e9-b7ea-0469a4228e7b",
   "metadata": {},
   "outputs": [],
   "source": [
    "model = Model.UNet(num_classes=3,p_dropout=0.3)"
   ]
  },
  {
   "cell_type": "code",
   "execution_count": null,
   "id": "44b51532-cae8-468e-9245-319c262c2b06",
   "metadata": {},
   "outputs": [],
   "source": [
    "model = model.to('cuda')"
   ]
  },
  {
   "cell_type": "code",
   "execution_count": null,
   "id": "7d4fffd7-3077-44cd-b40b-023e56c4b051",
   "metadata": {},
   "outputs": [],
   "source": [
    "device = 'cuda' if torch.cuda.is_available() else 'cpu'"
   ]
  },
  {
   "cell_type": "code",
   "execution_count": null,
   "id": "06188668-bab9-48eb-9490-ad61f4986cb8",
   "metadata": {},
   "outputs": [],
   "source": [
    "model.load_state_dict(torch.load(model_path,map_location=torch.device(device)))"
   ]
  },
  {
   "cell_type": "code",
   "execution_count": null,
   "id": "efde733c-905f-495d-aba3-3b2a2cf78a07",
   "metadata": {},
   "outputs": [],
   "source": [
    "lossf=loss.BCEDiceLoss(lambda_dice=0.4,lambda_bce=0.6)"
   ]
  },
  {
   "cell_type": "code",
   "execution_count": null,
   "id": "0d13636c-07cb-4ed2-a0b5-5666d9fe3b85",
   "metadata": {},
   "outputs": [],
   "source": [
    "from Attacks import attacks"
   ]
  },
  {
   "cell_type": "code",
   "execution_count": null,
   "id": "8060e576-7975-417a-a117-decff3941723",
   "metadata": {},
   "outputs": [],
   "source": []
  },
  {
   "cell_type": "code",
   "execution_count": null,
   "id": "e1a6606b-e6b7-4692-86d2-681004434da5",
   "metadata": {},
   "outputs": [],
   "source": [
    "#perturbed_testimg = attacks.I_FGSM_singleImage(model,\n",
    "#                         lossf,\n",
    "#                         valdata[44][0],\n",
    "#                         valdata[9][1],\n",
    "#                         0.00001,10000)"
   ]
  },
  {
   "cell_type": "code",
   "execution_count": null,
   "id": "1ac857df-11a2-4a93-8630-811d227d604d",
   "metadata": {},
   "outputs": [],
   "source": [
    "#valdata[44][0][None].shape"
   ]
  },
  {
   "cell_type": "code",
   "execution_count": null,
   "id": "4156ba09-dba7-493d-a486-a99c7e4acf15",
   "metadata": {},
   "outputs": [],
   "source": [
    "perturbed_testbatch = attacks.PGD_batch(model=model, \n",
    "         lossf=lossf,\n",
    "         img_batch=valdata[44][0][None], \n",
    "         mask_batch=valdata[44][1][None],\n",
    "         target_mask_batch=valdata[9][1][None], \n",
    "         num_iters=200,\n",
    "         step_norm=2,\n",
    "         step_size=7.0,\n",
    "         eps=10.0,\n",
    "         eps_norm=2,\n",
    "         clamp=(0,1))"
   ]
  },
  {
   "cell_type": "code",
   "execution_count": null,
   "id": "96311446-f4af-490a-967f-62ac02d12ae9",
   "metadata": {},
   "outputs": [],
   "source": [
    "torch.save(perturbed_testbatch,'perturbed_testbatch.pkl')"
   ]
  },
  {
   "cell_type": "code",
   "execution_count": null,
   "id": "a0756aea-b4c5-431d-96b4-835bd952c490",
   "metadata": {},
   "outputs": [],
   "source": [
    "perturbed_testbatch = torch.load('perturbed_testbatch.pkl')"
   ]
  },
  {
   "cell_type": "code",
   "execution_count": null,
   "id": "5c93856c-d6e9-4925-aadb-e8db8ff15e96",
   "metadata": {},
   "outputs": [],
   "source": [
    "#perturbed_testimg = attacks.I_FGSMLeastLikely_singleImage(model,\n",
    "#                         lossf,\n",
    "#                         valdata[38][0],\n",
    "#                         3,\n",
    "#                         0.005,500)"
   ]
  },
  {
   "cell_type": "code",
   "execution_count": null,
   "id": "68127e4b-c241-454c-95f4-6e6437a7b7e0",
   "metadata": {},
   "outputs": [],
   "source": [
    "fig = plt.figure(figsize=(512/30,1024/30))\n",
    "plt.imshow(valdata[44][0].cpu().detach().numpy().transpose(1,2,0))\n",
    "plt.show()"
   ]
  },
  {
   "cell_type": "code",
   "execution_count": null,
   "id": "53f23d63-ad68-4a41-825e-8027eb616259",
   "metadata": {},
   "outputs": [],
   "source": [
    "fig = plt.figure(figsize=(512/30,1024/30))\n",
    "plt.imshow(perturbed_testbatch[0].cpu().detach().numpy().transpose(1,2,0))\n",
    "plt.show()"
   ]
  },
  {
   "cell_type": "code",
   "execution_count": null,
   "id": "cb907bdb-f666-4e91-850a-aa8b8b5451fd",
   "metadata": {},
   "outputs": [],
   "source": [
    "plt.imshow(valdata[9][0].cpu().detach().numpy().transpose(1,2,0))"
   ]
  },
  {
   "cell_type": "code",
   "execution_count": null,
   "id": "41afaf30-041a-4374-971f-885b32da9328",
   "metadata": {},
   "outputs": [],
   "source": [
    "plt.imshow(valdata[9][1][2].cpu().detach().numpy())"
   ]
  },
  {
   "cell_type": "code",
   "execution_count": null,
   "id": "7bb2085c-39b9-45b8-9dce-053d45f9ed08",
   "metadata": {},
   "outputs": [],
   "source": [
    "d_device = 'cuda' if torch.cuda.is_available() else 'cpu'\n",
    "#d_device = 'cpu'\n",
    "prediction = model.predict(valdata[44][0].unsqueeze(0).to(d_device))"
   ]
  },
  {
   "cell_type": "code",
   "execution_count": null,
   "id": "75ef356a-a344-464f-bb2b-1301c6eafe03",
   "metadata": {},
   "outputs": [],
   "source": [
    "plt.imshow(prediction[1][0][2].cpu().detach().numpy())"
   ]
  },
  {
   "cell_type": "code",
   "execution_count": null,
   "id": "ba9f7666-5526-47a3-8a76-250bca776ea7",
   "metadata": {},
   "outputs": [],
   "source": [
    "prediction_adv = model.predict(perturbed_testbatch.to(d_device))"
   ]
  },
  {
   "cell_type": "code",
   "execution_count": null,
   "id": "367466f8-7045-404b-8416-eac153b9e809",
   "metadata": {},
   "outputs": [],
   "source": [
    "plt.imshow(prediction_adv[1][0][2].cpu().detach().numpy())"
   ]
  },
  {
   "cell_type": "code",
   "execution_count": null,
   "id": "4bac2c93-bec3-41b1-8153-2a3256fde6d1",
   "metadata": {},
   "outputs": [],
   "source": [
    "import gc\n",
    "def report_gpu():\n",
    "    print(torch.cuda.list_gpu_processes())\n",
    "    gc.collect()\n",
    "    torch.cuda.empty_cache()"
   ]
  },
  {
   "cell_type": "code",
   "execution_count": null,
   "id": "62869626-ae6d-452f-8e82-bc272d2385a8",
   "metadata": {},
   "outputs": [],
   "source": [
    "report_gpu()"
   ]
  },
  {
   "cell_type": "code",
   "execution_count": null,
   "id": "472ed362-d9a0-4aa8-9662-2bc36b43c97f",
   "metadata": {},
   "outputs": [],
   "source": [
    "print(torch.cuda.list_gpu_processes())"
   ]
  },
  {
   "cell_type": "code",
   "execution_count": null,
   "id": "3198a8af-147b-4e76-a02f-7cc537fb3f80",
   "metadata": {},
   "outputs": [],
   "source": [
    "!pip install pynvml"
   ]
  }
 ],
 "metadata": {
  "kernelspec": {
   "display_name": "Python 3 (ipykernel)",
   "language": "python",
   "name": "python3"
  },
  "language_info": {
   "codemirror_mode": {
    "name": "ipython",
    "version": 3
   },
   "file_extension": ".py",
   "mimetype": "text/x-python",
   "name": "python",
   "nbconvert_exporter": "python",
   "pygments_lexer": "ipython3",
   "version": "3.9.7"
  }
 },
 "nbformat": 4,
 "nbformat_minor": 5
}
