{
 "cells": [
  {
   "cell_type": "code",
   "execution_count": 1,
   "id": "95273c29-2c97-4e2a-9ac0-47b1f949e239",
   "metadata": {},
   "outputs": [],
   "source": [
    "from torch.nn import BCEWithLogitsLoss, BCELoss\n",
    "from torch.optim import Adam\n",
    "from torch.utils.data import DataLoader\n",
    "from sklearn.model_selection import train_test_split\n",
    "from torchvision import transforms\n",
    "from imutils import paths\n",
    "from tqdm import tqdm\n",
    "import matplotlib.pyplot as plt\n",
    "import torch\n",
    "import time\n",
    "import os\n",
    "import numpy as np\n",
    "\n",
    "from Utils import loader, loss\n",
    "from Train import train\n",
    "from Model import Model"
   ]
  },
  {
   "cell_type": "code",
   "execution_count": 2,
   "id": "b830bea9-65d0-4d2e-93b0-b7fec7160539",
   "metadata": {},
   "outputs": [],
   "source": [
    "imdir_rs19 = '/home/physik/Dokumente/rs19/jpgs/rs19_val'\n",
    "maskdir_rs19 = '/home/physik/Dokumente/rs19/uint8/rs19_val'\n",
    "#imdir_rs19 = '/home/luis/Documents/ImSeg/rs19_val/jpgs/rs19_val'\n",
    "#maskdir_rs19 = '/home/luis/Documents/ImSeg/rs19_val/uint8/rs19_val'\n",
    "classes_ = {\"rail-track\"}\n",
    "range_train = (0,2000)\n",
    "range_test = (5000,6000)\n",
    "range_val = (7,8)"
   ]
  },
  {
   "cell_type": "code",
   "execution_count": 3,
   "id": "6495a888-f369-42e6-8059-1abb3d33562c",
   "metadata": {},
   "outputs": [],
   "source": [
    "traindata = loader.dataset(imdir=imdir_rs19,\n",
    "                      maskdir=maskdir_rs19,\n",
    "                      numstart=range_train[0],\n",
    "                      numend=range_train[1],\n",
    "                      classes=classes_)\n",
    "\n",
    "testdata = loader.dataset(imdir=imdir_rs19,\n",
    "                      maskdir=maskdir_rs19,\n",
    "                      numstart=range_test[0],\n",
    "                      numend=range_test[1],\n",
    "                      classes=classes_)\n",
    "\n",
    "valdata = loader.dataset(imdir=imdir_rs19,\n",
    "                      maskdir=maskdir_rs19,\n",
    "                      numstart=range_val[0],\n",
    "                      numend=range_val[1],\n",
    "                      classes=classes_)"
   ]
  },
  {
   "cell_type": "code",
   "execution_count": 4,
   "id": "0a339955-d9cf-48e3-8963-38b41a2ecaf6",
   "metadata": {},
   "outputs": [
    {
     "data": {
      "text/plain": [
       "torch.Size([1, 512, 1024])"
      ]
     },
     "execution_count": 4,
     "metadata": {},
     "output_type": "execute_result"
    }
   ],
   "source": [
    "traindata[0][1].shape"
   ]
  },
  {
   "cell_type": "code",
   "execution_count": 5,
   "id": "6f5ff062-fce9-4fb9-bac3-81ab10058eba",
   "metadata": {},
   "outputs": [
    {
     "data": {
      "text/plain": [
       "torch.Size([3, 512, 1024])"
      ]
     },
     "execution_count": 5,
     "metadata": {},
     "output_type": "execute_result"
    }
   ],
   "source": [
    "traindata[0][0].shape"
   ]
  },
  {
   "cell_type": "code",
   "execution_count": 6,
   "id": "95b03230-3dac-44e5-941e-f5dbe36ffb4f",
   "metadata": {},
   "outputs": [
    {
     "data": {
      "text/plain": [
       "torch.float32"
      ]
     },
     "execution_count": 6,
     "metadata": {},
     "output_type": "execute_result"
    }
   ],
   "source": [
    "traindata[0][1].dtype"
   ]
  },
  {
   "cell_type": "code",
   "execution_count": 7,
   "id": "cebfadca-30a7-4054-9078-2b5f27330c40",
   "metadata": {},
   "outputs": [
    {
     "data": {
      "text/plain": [
       "2001"
      ]
     },
     "execution_count": 7,
     "metadata": {},
     "output_type": "execute_result"
    }
   ],
   "source": [
    "len(traindata)"
   ]
  },
  {
   "cell_type": "code",
   "execution_count": 8,
   "id": "0b14ed54-3042-479a-b295-7ee56783c7dd",
   "metadata": {},
   "outputs": [
    {
     "data": {
      "text/plain": [
       "1001"
      ]
     },
     "execution_count": 8,
     "metadata": {},
     "output_type": "execute_result"
    }
   ],
   "source": [
    "len(testdata)"
   ]
  },
  {
   "cell_type": "code",
   "execution_count": 9,
   "id": "d40f7f0d-678e-470d-9a72-d9ef5cd61cb3",
   "metadata": {},
   "outputs": [],
   "source": [
    "batchsize = 1\n",
    "#loss = torch.nn.BCEWithLogitsLoss()\n",
    "lossf = loss.BCEDiceLoss()\n",
    "optim = 'Adam'\n",
    "lr = 0.00001\n",
    "momentum = 0.01\n",
    "decay_rate = 0.9\n",
    "decay_steps =500\n",
    "num_epochs = 10000\n",
    "model_path = \"\""
   ]
  },
  {
   "cell_type": "code",
   "execution_count": 10,
   "id": "ab410ea1-7876-41c8-bbef-50e5a007e925",
   "metadata": {},
   "outputs": [],
   "source": [
    "model = Model.UNet(num_classes=1,enc_channels=(3,64,128,256,512),dec_channels=(512,256,128,64))"
   ]
  },
  {
   "cell_type": "code",
   "execution_count": 11,
   "id": "d6f6b274-5444-4f3e-a0fd-365689a55fcb",
   "metadata": {},
   "outputs": [],
   "source": [
    "model = model.to('cuda')"
   ]
  },
  {
   "cell_type": "code",
   "execution_count": 12,
   "id": "05af70b0-bbc7-41b9-a7a6-3e8ab4bd6c61",
   "metadata": {},
   "outputs": [],
   "source": [
    "Trainer = train.TrainSeg(model,\n",
    "                         traindata,\n",
    "                         testdata,\n",
    "                         valdata,\n",
    "                         classes_,\n",
    "                         lossf,\n",
    "                         optim,\n",
    "                         batchsize,\n",
    "                         lr,\n",
    "                         momentum,\n",
    "                         decay_rate,\n",
    "                         decay_steps,\n",
    "                         num_epochs,\n",
    "                         model_path)"
   ]
  },
  {
   "cell_type": "code",
   "execution_count": null,
   "id": "4f8ee262-2b8e-42fa-b1d2-c950198be41e",
   "metadata": {},
   "outputs": [
    {
     "name": "stdout",
     "output_type": "stream",
     "text": [
      "Epoch: 1/10000\n",
      "Train loss: 1.450788, Test loss: 1.2686, Learning rate: 0.000010\n",
      "Epoch: 2/10000\n",
      "Train loss: 1.279541, Test loss: 1.1560, Learning rate: 0.000010\n",
      "Epoch: 3/10000\n",
      "Train loss: 1.152583, Test loss: 1.0804, Learning rate: 0.000010\n"
     ]
    }
   ],
   "source": [
    "Trainer.train()"
   ]
  },
  {
   "cell_type": "code",
   "execution_count": null,
   "id": "0cd53535-7a1d-43fd-8720-b2033f7dacea",
   "metadata": {},
   "outputs": [],
   "source": [
    "Trainer.val()"
   ]
  },
  {
   "cell_type": "code",
   "execution_count": null,
   "id": "12622bcf-011d-44db-a3e8-1e94e3cf99c6",
   "metadata": {},
   "outputs": [],
   "source": [
    "model.eval()"
   ]
  },
  {
   "cell_type": "code",
   "execution_count": null,
   "id": "d77d088c-7e1e-4537-ac38-d16b1e4c502c",
   "metadata": {},
   "outputs": [],
   "source": [
    "loader.visualize_result(traindata[0][0],traindata[0][1][0,:,:])"
   ]
  },
  {
   "cell_type": "code",
   "execution_count": null,
   "id": "802a22db-d5c2-4286-abaf-f858367e4856",
   "metadata": {},
   "outputs": [],
   "source": [
    "torch.max(traindata[0][1])"
   ]
  },
  {
   "cell_type": "code",
   "execution_count": null,
   "id": "45c10978-c19b-4ab7-90b5-a10717e9e157",
   "metadata": {},
   "outputs": [],
   "source": [
    "result = torch.sigmoid(model(traindata[0][0].unsqueeze(0).to('cuda')))"
   ]
  },
  {
   "cell_type": "code",
   "execution_count": null,
   "id": "261fc60d-8025-4fe6-9cd9-b6d3794d3bdb",
   "metadata": {},
   "outputs": [],
   "source": [
    "plt.imshow(result.detach().numpy()[0][0])"
   ]
  },
  {
   "cell_type": "code",
   "execution_count": null,
   "id": "6d722360-518a-4d54-a615-14507c6ccf34",
   "metadata": {},
   "outputs": [],
   "source": [
    "result[result>=0.5]=1."
   ]
  },
  {
   "cell_type": "code",
   "execution_count": null,
   "id": "9c347030-7638-4247-88af-ec634e6f2928",
   "metadata": {},
   "outputs": [],
   "source": [
    "loader.visualize_result(traindata[0][0],result[0][0])"
   ]
  },
  {
   "cell_type": "code",
   "execution_count": null,
   "id": "e489e2ad-bbbc-484b-bff0-e28910f5c720",
   "metadata": {},
   "outputs": [],
   "source": [
    "torch.min(result)"
   ]
  },
  {
   "cell_type": "code",
   "execution_count": null,
   "id": "490686cf-d675-4806-9817-c18a792ee942",
   "metadata": {},
   "outputs": [],
   "source": [
    "torch.max(result)"
   ]
  },
  {
   "cell_type": "code",
   "execution_count": null,
   "id": "dac4f959-ab0a-4752-8d67-c725d01c56b6",
   "metadata": {},
   "outputs": [],
   "source": [
    "result.shape"
   ]
  },
  {
   "cell_type": "code",
   "execution_count": null,
   "id": "353088fb-a972-4d69-be2d-cbb56843f649",
   "metadata": {},
   "outputs": [],
   "source": [
    "zeros = torch.zeros((1,1080,1920))"
   ]
  },
  {
   "cell_type": "code",
   "execution_count": null,
   "id": "0ad3997e-8428-4c6d-a4f6-52d407da29b5",
   "metadata": {},
   "outputs": [],
   "source": [
    "loss(result[0],traindata[0][1])"
   ]
  },
  {
   "cell_type": "code",
   "execution_count": null,
   "id": "f48ad96c-8c00-4b7e-b147-6100be20f49c",
   "metadata": {},
   "outputs": [],
   "source": [
    "Trainer.model_path = \"/home/physik/Model_28102022_1\""
   ]
  },
  {
   "cell_type": "code",
   "execution_count": null,
   "id": "1a020d8f-204c-4d30-8579-195908955c9e",
   "metadata": {},
   "outputs": [],
   "source": [
    "Trainer.save()"
   ]
  },
  {
   "cell_type": "code",
   "execution_count": null,
   "id": "47080e25-f409-46f2-901c-66ee52cc6395",
   "metadata": {},
   "outputs": [],
   "source": [
    "Trainer.load()"
   ]
  },
  {
   "cell_type": "code",
   "execution_count": null,
   "id": "8a2f30be-6d4e-4fb7-a3ac-02612a11263f",
   "metadata": {},
   "outputs": [],
   "source": [
    "loss.dice_score(traindata[0][1],traindata[0][1],None)"
   ]
  },
  {
   "cell_type": "code",
   "execution_count": null,
   "id": "a1f7ab77-d3d9-4dc4-be7f-bf10a5506080",
   "metadata": {},
   "outputs": [],
   "source": [
    "loss.dice_score(result,traindata[0][1],None)"
   ]
  },
  {
   "cell_type": "code",
   "execution_count": null,
   "id": "4df1869c-bd20-4353-a07d-eb41ab7c3264",
   "metadata": {},
   "outputs": [],
   "source": [
    "import gc\n",
    "gc.collect()"
   ]
  },
  {
   "cell_type": "code",
   "execution_count": null,
   "id": "de8433ee-d070-4a6f-aa9d-dd457625cf50",
   "metadata": {},
   "outputs": [],
   "source": [
    "torch.cuda.empty_cache()"
   ]
  },
  {
   "cell_type": "code",
   "execution_count": null,
   "id": "2f94c9bd-6c3c-4f49-bafc-68da72adb661",
   "metadata": {},
   "outputs": [],
   "source": [
    "for img,mask in Trainer.trainloader:\n",
    "    print (img.shape)"
   ]
  },
  {
   "cell_type": "code",
   "execution_count": null,
   "id": "daddf132-6889-43ec-af75-947d118b5b0e",
   "metadata": {},
   "outputs": [],
   "source": [
    "img = img.to('cuda')"
   ]
  },
  {
   "cell_type": "code",
   "execution_count": null,
   "id": "d73df14f-f769-45a4-9c55-e5b64865e7d9",
   "metadata": {},
   "outputs": [],
   "source": [
    "img.device"
   ]
  },
  {
   "cell_type": "code",
   "execution_count": null,
   "id": "cdb0d5d7-a2f9-4bd7-9857-6ea969ea9f50",
   "metadata": {},
   "outputs": [],
   "source": [
    "del img"
   ]
  },
  {
   "cell_type": "code",
   "execution_count": null,
   "id": "df0569b3-bdd8-4e26-bb22-44b0302c439b",
   "metadata": {},
   "outputs": [],
   "source": [
    "torch.cuda.empty_cache()"
   ]
  },
  {
   "cell_type": "code",
   "execution_count": null,
   "id": "5d5aba30-7217-4c8e-b8bf-40593a4ca65d",
   "metadata": {},
   "outputs": [],
   "source": [
    "trainloader = DataLoader(traindata, batch_size = 2, shuffle = True, num_workers = 1)"
   ]
  },
  {
   "cell_type": "code",
   "execution_count": null,
   "id": "9cd875f8-64cd-481f-88a9-11a0819fc9cb",
   "metadata": {},
   "outputs": [],
   "source": [
    "for (img,mask) in trainloader:\n",
    "    print(mask.shape)"
   ]
  }
 ],
 "metadata": {
  "kernelspec": {
   "display_name": "Python 3 (ipykernel)",
   "language": "python",
   "name": "python3"
  },
  "language_info": {
   "codemirror_mode": {
    "name": "ipython",
    "version": 3
   },
   "file_extension": ".py",
   "mimetype": "text/x-python",
   "name": "python",
   "nbconvert_exporter": "python",
   "pygments_lexer": "ipython3",
   "version": "3.9.7"
  }
 },
 "nbformat": 4,
 "nbformat_minor": 5
}
